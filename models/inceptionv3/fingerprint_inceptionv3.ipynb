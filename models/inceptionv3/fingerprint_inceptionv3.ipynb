{
  "nbformat": 4,
  "nbformat_minor": 0,
  "metadata": {
    "colab": {
      "name": "fingerprint_inceptionv3.ipynb",
      "provenance": [],
      "collapsed_sections": [],
      "include_colab_link": true
    },
    "kernelspec": {
      "name": "python3",
      "display_name": "Python 3"
    },
    "accelerator": "GPU"
  },
  "cells": [
    {
      "cell_type": "markdown",
      "metadata": {
        "id": "view-in-github",
        "colab_type": "text"
      },
      "source": [
        "<a href=\"https://colab.research.google.com/github/ashishtrivedi16/major_project_stuff/blob/master/models/fingerprint_inceptionv3.ipynb\" target=\"_parent\"><img src=\"https://colab.research.google.com/assets/colab-badge.svg\" alt=\"Open In Colab\"/></a>"
      ]
    },
    {
      "cell_type": "code",
      "metadata": {
        "id": "m_OlmI4V-KJc",
        "colab_type": "code",
        "colab": {}
      },
      "source": [
        "# GPU details\n",
        "!nvidia-smi"
      ],
      "execution_count": 0,
      "outputs": []
    },
    {
      "cell_type": "code",
      "metadata": {
        "id": "LvuGD9jd_LgN",
        "colab_type": "code",
        "colab": {}
      },
      "source": [
        "# CPU details\n",
        "!cat /proc/cpuinfo"
      ],
      "execution_count": 0,
      "outputs": []
    },
    {
      "cell_type": "code",
      "metadata": {
        "id": "fsckxpp1YtsG",
        "colab_type": "code",
        "colab": {}
      },
      "source": [
        "# suppress warnings\n",
        "import warnings\n",
        "warnings.filterwarnings(\"ignore\")"
      ],
      "execution_count": 0,
      "outputs": []
    },
    {
      "cell_type": "code",
      "metadata": {
        "id": "CLTDdklcEsY3",
        "colab_type": "code",
        "colab": {
          "base_uri": "https://localhost:8080/",
          "height": 34
        },
        "outputId": "021dc223-e135-4b5f-f146-625489895398"
      },
      "source": [
        "'''\n",
        "Mount your gdrive account by running this cell and place your database files\n",
        "in it for easy access.\n",
        "'''\n",
        "from google.colab import drive\n",
        "drive.mount('/content/drive')"
      ],
      "execution_count": 2,
      "outputs": [
        {
          "output_type": "stream",
          "text": [
            "Drive already mounted at /content/drive; to attempt to forcibly remount, call drive.mount(\"/content/drive\", force_remount=True).\n"
          ],
          "name": "stdout"
        }
      ]
    },
    {
      "cell_type": "code",
      "metadata": {
        "id": "S1keaSRqEv9E",
        "colab_type": "code",
        "colab": {}
      },
      "source": [
        "import os # for basic operations like folder creation, directory validation etc\n",
        "import glob # finds file according to wildcard given\n",
        "import shutil # for moving files\n",
        "import matplotlib.pyplot as plt # for plotting graphs and viewing images"
      ],
      "execution_count": 0,
      "outputs": []
    },
    {
      "cell_type": "code",
      "metadata": {
        "id": "YD01ByVaUTIm",
        "colab_type": "code",
        "colab": {}
      },
      "source": [
        "'''\n",
        "This function organises fingerprint of a person to his respective folder\n",
        "No need to run this cell as i've already organised the images into their\n",
        "respective folders\n",
        "'''\n",
        "\n",
        "src = \"./drive/My Drive/dbs/DB2_B/dataset/\"\n",
        "des = \"./drive/My Drive/dbs/DB2_B/dataset/\"\n",
        "def organise_files(path=src):\n",
        "    for i in range(101, 111):\n",
        "        if not os.path.isdir(src + str(i)):\n",
        "            os.makedirs(src + str(i))\n",
        "        for name in glob.glob(src + str(i) + \"_*.tif\"):\n",
        "            shutil.move(name, des + str(i) )\n",
        "\n",
        "organise_files()            "
      ],
      "execution_count": 0,
      "outputs": []
    },
    {
      "cell_type": "code",
      "metadata": {
        "id": "JqJC-S2zTz4H",
        "colab_type": "code",
        "colab": {}
      },
      "source": [
        "'''\n",
        "Visualise file directory structure\n",
        "'''\n",
        "\n",
        "startpath = './drive/My Drive/dbs/DB4_B'\n",
        "\n",
        "def list_files(startpath):\n",
        "    for root, dirs, files in os.walk(startpath):\n",
        "        level = root.replace(startpath, '').count(os.sep)\n",
        "        indent = ' ' * 4 * (level)\n",
        "        print('{}{}/'.format(indent, os.path.basename(root)))\n",
        "        subindent = ' ' * 4 * (level + 1)\n",
        "        for f in files:\n",
        "            print('{}{}'.format(subindent, f))\n",
        "\n",
        "list_files(startpath)"
      ],
      "execution_count": 0,
      "outputs": []
    },
    {
      "cell_type": "code",
      "metadata": {
        "id": "DuLK7qlpVMLZ",
        "colab_type": "code",
        "colab": {}
      },
      "source": [
        "'''\n",
        "function to divide the dataset into train and test folders for \n",
        "ImageDataGenerator.flow_from_directory() function\n",
        "\n",
        "train set -> 75% (6 fingerprints per person)\n",
        "validation set -> 25% (2 fingerprints per person)\n",
        "'''\n",
        "import random\n",
        "\n",
        "startpath = './drive/My Drive/dbs/DB2_B/'\n",
        "train_split = 0.75\n",
        "validation_split = 0.25\n",
        "\n",
        "def train_validation_split(startpath, train=train_split, validation=validation_split):\n",
        "    # first create same sub-diretory structure in both train and validation folders\n",
        "    dir_list  = [x[1] for x in os.walk(startpath + 'dataset')][0]\n",
        "    for dir in dir_list:\n",
        "        if not os.path.isdir(startpath + 'train/' + dir):\n",
        "            os.mkdir(startpath + 'train/' + dir)\n",
        "        if not os.path.isdir(startpath + 'validation/' + dir):\n",
        "            os.mkdir(startpath + 'validation/' + dir)\n",
        "\n",
        "    # randomly select images based on train validation slipt and move them\n",
        "    # to their respective folders\n",
        "    for root_dir in [x[0] for x in os.walk(startpath + 'dataset')][1:]:\n",
        "        # get the list of files in respective subdirectories\n",
        "        filename_list = [x[2] for x in os.walk(root_dir)][0]\n",
        "        \n",
        "        # randomly select files for train set\n",
        "        train_file_length = float(len(filename_list)) * train\n",
        "        filenames = random.sample(filename_list, int(train_file_length))\n",
        "        for fname in filenames:\n",
        "            filename_list.remove(fname) # rest files will go in validation set\n",
        "            src = os.path.join(root_dir, fname)\n",
        "            dest = os.path.join(startpath + 'train/' + fname[0:3], fname)\n",
        "            shutil.copyfile(src, dest)\n",
        "\n",
        "        # move rest of the files to validation set\n",
        "        for fname in filename_list:\n",
        "            src = os.path.join(root_dir, fname)\n",
        "            dest = os.path.join(startpath + 'validation/' + fname[0:3], fname)\n",
        "            shutil.copyfile(src, dest)\n",
        "\n",
        "train_validation_split(startpath)"
      ],
      "execution_count": 0,
      "outputs": []
    },
    {
      "cell_type": "code",
      "metadata": {
        "id": "iJOmu9Cdr_rx",
        "colab_type": "code",
        "colab": {
          "base_uri": "https://localhost:8080/",
          "height": 276
        },
        "outputId": "10711541-d447-46e0-bb96-3e621a4c793b"
      },
      "source": [
        "!pip install --upgrade pillow"
      ],
      "execution_count": 9,
      "outputs": [
        {
          "output_type": "stream",
          "text": [
            "Collecting pillow\n",
            "\u001b[?25l  Downloading https://files.pythonhosted.org/packages/10/5c/0e94e689de2476c4c5e644a3bd223a1c1b9e2bdb7c510191750be74fa786/Pillow-6.2.1-cp36-cp36m-manylinux1_x86_64.whl (2.1MB)\n",
            "\r\u001b[K     |▏                               | 10kB 26.3MB/s eta 0:00:01\r\u001b[K     |▎                               | 20kB 34.6MB/s eta 0:00:01\r\u001b[K     |▌                               | 30kB 39.7MB/s eta 0:00:01\r\u001b[K     |▋                               | 40kB 44.3MB/s eta 0:00:01\r\u001b[K     |▉                               | 51kB 36.9MB/s eta 0:00:01\r\u001b[K     |█                               | 61kB 39.4MB/s eta 0:00:01\r\u001b[K     |█                               | 71kB 30.8MB/s eta 0:00:01\r\u001b[K     |█▎                              | 81kB 31.7MB/s eta 0:00:01\r\u001b[K     |█▍                              | 92kB 33.1MB/s eta 0:00:01\r\u001b[K     |█▋                              | 102kB 31.6MB/s eta 0:00:01\r\u001b[K     |█▊                              | 112kB 31.6MB/s eta 0:00:01\r\u001b[K     |█▉                              | 122kB 31.6MB/s eta 0:00:01\r\u001b[K     |██                              | 133kB 31.6MB/s eta 0:00:01\r\u001b[K     |██▏                             | 143kB 31.6MB/s eta 0:00:01\r\u001b[K     |██▍                             | 153kB 31.6MB/s eta 0:00:01\r\u001b[K     |██▌                             | 163kB 31.6MB/s eta 0:00:01\r\u001b[K     |██▋                             | 174kB 31.6MB/s eta 0:00:01\r\u001b[K     |██▉                             | 184kB 31.6MB/s eta 0:00:01\r\u001b[K     |███                             | 194kB 31.6MB/s eta 0:00:01\r\u001b[K     |███▏                            | 204kB 31.6MB/s eta 0:00:01\r\u001b[K     |███▎                            | 215kB 31.6MB/s eta 0:00:01\r\u001b[K     |███▍                            | 225kB 31.6MB/s eta 0:00:01\r\u001b[K     |███▋                            | 235kB 31.6MB/s eta 0:00:01\r\u001b[K     |███▊                            | 245kB 31.6MB/s eta 0:00:01\r\u001b[K     |████                            | 256kB 31.6MB/s eta 0:00:01\r\u001b[K     |████                            | 266kB 31.6MB/s eta 0:00:01\r\u001b[K     |████▎                           | 276kB 31.6MB/s eta 0:00:01\r\u001b[K     |████▍                           | 286kB 31.6MB/s eta 0:00:01\r\u001b[K     |████▌                           | 296kB 31.6MB/s eta 0:00:01\r\u001b[K     |████▊                           | 307kB 31.6MB/s eta 0:00:01\r\u001b[K     |████▉                           | 317kB 31.6MB/s eta 0:00:01\r\u001b[K     |█████                           | 327kB 31.6MB/s eta 0:00:01\r\u001b[K     |█████▏                          | 337kB 31.6MB/s eta 0:00:01\r\u001b[K     |█████▎                          | 348kB 31.6MB/s eta 0:00:01\r\u001b[K     |█████▌                          | 358kB 31.6MB/s eta 0:00:01\r\u001b[K     |█████▋                          | 368kB 31.6MB/s eta 0:00:01\r\u001b[K     |█████▉                          | 378kB 31.6MB/s eta 0:00:01\r\u001b[K     |██████                          | 389kB 31.6MB/s eta 0:00:01\r\u001b[K     |██████                          | 399kB 31.6MB/s eta 0:00:01\r\u001b[K     |██████▎                         | 409kB 31.6MB/s eta 0:00:01\r\u001b[K     |██████▍                         | 419kB 31.6MB/s eta 0:00:01\r\u001b[K     |██████▋                         | 430kB 31.6MB/s eta 0:00:01\r\u001b[K     |██████▊                         | 440kB 31.6MB/s eta 0:00:01\r\u001b[K     |██████▉                         | 450kB 31.6MB/s eta 0:00:01\r\u001b[K     |███████                         | 460kB 31.6MB/s eta 0:00:01\r\u001b[K     |███████▏                        | 471kB 31.6MB/s eta 0:00:01\r\u001b[K     |███████▍                        | 481kB 31.6MB/s eta 0:00:01\r\u001b[K     |███████▌                        | 491kB 31.6MB/s eta 0:00:01\r\u001b[K     |███████▋                        | 501kB 31.6MB/s eta 0:00:01\r\u001b[K     |███████▉                        | 512kB 31.6MB/s eta 0:00:01\r\u001b[K     |████████                        | 522kB 31.6MB/s eta 0:00:01\r\u001b[K     |████████▏                       | 532kB 31.6MB/s eta 0:00:01\r\u001b[K     |████████▎                       | 542kB 31.6MB/s eta 0:00:01\r\u001b[K     |████████▌                       | 552kB 31.6MB/s eta 0:00:01\r\u001b[K     |████████▋                       | 563kB 31.6MB/s eta 0:00:01\r\u001b[K     |████████▊                       | 573kB 31.6MB/s eta 0:00:01\r\u001b[K     |█████████                       | 583kB 31.6MB/s eta 0:00:01\r\u001b[K     |█████████                       | 593kB 31.6MB/s eta 0:00:01\r\u001b[K     |█████████▎                      | 604kB 31.6MB/s eta 0:00:01\r\u001b[K     |█████████▍                      | 614kB 31.6MB/s eta 0:00:01\r\u001b[K     |█████████▌                      | 624kB 31.6MB/s eta 0:00:01\r\u001b[K     |█████████▊                      | 634kB 31.6MB/s eta 0:00:01\r\u001b[K     |█████████▉                      | 645kB 31.6MB/s eta 0:00:01\r\u001b[K     |██████████                      | 655kB 31.6MB/s eta 0:00:01\r\u001b[K     |██████████▏                     | 665kB 31.6MB/s eta 0:00:01\r\u001b[K     |██████████▎                     | 675kB 31.6MB/s eta 0:00:01\r\u001b[K     |██████████▌                     | 686kB 31.6MB/s eta 0:00:01\r\u001b[K     |██████████▋                     | 696kB 31.6MB/s eta 0:00:01\r\u001b[K     |██████████▉                     | 706kB 31.6MB/s eta 0:00:01\r\u001b[K     |███████████                     | 716kB 31.6MB/s eta 0:00:01\r\u001b[K     |███████████                     | 727kB 31.6MB/s eta 0:00:01\r\u001b[K     |███████████▎                    | 737kB 31.6MB/s eta 0:00:01\r\u001b[K     |███████████▍                    | 747kB 31.6MB/s eta 0:00:01\r\u001b[K     |███████████▋                    | 757kB 31.6MB/s eta 0:00:01\r\u001b[K     |███████████▊                    | 768kB 31.6MB/s eta 0:00:01\r\u001b[K     |████████████                    | 778kB 31.6MB/s eta 0:00:01\r\u001b[K     |████████████                    | 788kB 31.6MB/s eta 0:00:01\r\u001b[K     |████████████▏                   | 798kB 31.6MB/s eta 0:00:01\r\u001b[K     |████████████▍                   | 808kB 31.6MB/s eta 0:00:01\r\u001b[K     |████████████▌                   | 819kB 31.6MB/s eta 0:00:01\r\u001b[K     |████████████▊                   | 829kB 31.6MB/s eta 0:00:01\r\u001b[K     |████████████▉                   | 839kB 31.6MB/s eta 0:00:01\r\u001b[K     |█████████████                   | 849kB 31.6MB/s eta 0:00:01\r\u001b[K     |█████████████▏                  | 860kB 31.6MB/s eta 0:00:01\r\u001b[K     |█████████████▎                  | 870kB 31.6MB/s eta 0:00:01\r\u001b[K     |█████████████▌                  | 880kB 31.6MB/s eta 0:00:01\r\u001b[K     |█████████████▋                  | 890kB 31.6MB/s eta 0:00:01\r\u001b[K     |█████████████▊                  | 901kB 31.6MB/s eta 0:00:01\r\u001b[K     |██████████████                  | 911kB 31.6MB/s eta 0:00:01\r\u001b[K     |██████████████                  | 921kB 31.6MB/s eta 0:00:01\r\u001b[K     |██████████████▎                 | 931kB 31.6MB/s eta 0:00:01\r\u001b[K     |██████████████▍                 | 942kB 31.6MB/s eta 0:00:01\r\u001b[K     |██████████████▌                 | 952kB 31.6MB/s eta 0:00:01\r\u001b[K     |██████████████▊                 | 962kB 31.6MB/s eta 0:00:01\r\u001b[K     |██████████████▉                 | 972kB 31.6MB/s eta 0:00:01\r\u001b[K     |███████████████                 | 983kB 31.6MB/s eta 0:00:01\r\u001b[K     |███████████████▏                | 993kB 31.6MB/s eta 0:00:01\r\u001b[K     |███████████████▎                | 1.0MB 31.6MB/s eta 0:00:01\r\u001b[K     |███████████████▌                | 1.0MB 31.6MB/s eta 0:00:01\r\u001b[K     |███████████████▋                | 1.0MB 31.6MB/s eta 0:00:01\r\u001b[K     |███████████████▉                | 1.0MB 31.6MB/s eta 0:00:01\r\u001b[K     |████████████████                | 1.0MB 31.6MB/s eta 0:00:01\r\u001b[K     |████████████████▏               | 1.1MB 31.6MB/s eta 0:00:01\r\u001b[K     |████████████████▎               | 1.1MB 31.6MB/s eta 0:00:01\r\u001b[K     |████████████████▍               | 1.1MB 31.6MB/s eta 0:00:01\r\u001b[K     |████████████████▋               | 1.1MB 31.6MB/s eta 0:00:01\r\u001b[K     |████████████████▊               | 1.1MB 31.6MB/s eta 0:00:01\r\u001b[K     |█████████████████               | 1.1MB 31.6MB/s eta 0:00:01\r\u001b[K     |█████████████████               | 1.1MB 31.6MB/s eta 0:00:01\r\u001b[K     |█████████████████▏              | 1.1MB 31.6MB/s eta 0:00:01\r\u001b[K     |█████████████████▍              | 1.1MB 31.6MB/s eta 0:00:01\r\u001b[K     |█████████████████▌              | 1.1MB 31.6MB/s eta 0:00:01\r\u001b[K     |█████████████████▊              | 1.2MB 31.6MB/s eta 0:00:01\r\u001b[K     |█████████████████▉              | 1.2MB 31.6MB/s eta 0:00:01\r\u001b[K     |██████████████████              | 1.2MB 31.6MB/s eta 0:00:01\r\u001b[K     |██████████████████▏             | 1.2MB 31.6MB/s eta 0:00:01\r\u001b[K     |██████████████████▎             | 1.2MB 31.6MB/s eta 0:00:01\r\u001b[K     |██████████████████▌             | 1.2MB 31.6MB/s eta 0:00:01\r\u001b[K     |██████████████████▋             | 1.2MB 31.6MB/s eta 0:00:01\r\u001b[K     |██████████████████▊             | 1.2MB 31.6MB/s eta 0:00:01\r\u001b[K     |███████████████████             | 1.2MB 31.6MB/s eta 0:00:01\r\u001b[K     |███████████████████             | 1.2MB 31.6MB/s eta 0:00:01\r\u001b[K     |███████████████████▎            | 1.3MB 31.6MB/s eta 0:00:01\r\u001b[K     |███████████████████▍            | 1.3MB 31.6MB/s eta 0:00:01\r\u001b[K     |███████████████████▋            | 1.3MB 31.6MB/s eta 0:00:01\r\u001b[K     |███████████████████▊            | 1.3MB 31.6MB/s eta 0:00:01\r\u001b[K     |███████████████████▉            | 1.3MB 31.6MB/s eta 0:00:01\r\u001b[K     |████████████████████            | 1.3MB 31.6MB/s eta 0:00:01\r\u001b[K     |████████████████████▏           | 1.3MB 31.6MB/s eta 0:00:01\r\u001b[K     |████████████████████▍           | 1.3MB 31.6MB/s eta 0:00:01\r\u001b[K     |████████████████████▌           | 1.3MB 31.6MB/s eta 0:00:01\r\u001b[K     |████████████████████▋           | 1.4MB 31.6MB/s eta 0:00:01\r\u001b[K     |████████████████████▉           | 1.4MB 31.6MB/s eta 0:00:01\r\u001b[K     |█████████████████████           | 1.4MB 31.6MB/s eta 0:00:01\r\u001b[K     |█████████████████████▏          | 1.4MB 31.6MB/s eta 0:00:01\r\u001b[K     |█████████████████████▎          | 1.4MB 31.6MB/s eta 0:00:01\r\u001b[K     |█████████████████████▍          | 1.4MB 31.6MB/s eta 0:00:01\r\u001b[K     |█████████████████████▋          | 1.4MB 31.6MB/s eta 0:00:01\r\u001b[K     |█████████████████████▊          | 1.4MB 31.6MB/s eta 0:00:01\r\u001b[K     |██████████████████████          | 1.4MB 31.6MB/s eta 0:00:01\r\u001b[K     |██████████████████████          | 1.4MB 31.6MB/s eta 0:00:01\r\u001b[K     |██████████████████████▏         | 1.5MB 31.6MB/s eta 0:00:01\r\u001b[K     |██████████████████████▍         | 1.5MB 31.6MB/s eta 0:00:01\r\u001b[K     |██████████████████████▌         | 1.5MB 31.6MB/s eta 0:00:01\r\u001b[K     |██████████████████████▊         | 1.5MB 31.6MB/s eta 0:00:01\r\u001b[K     |██████████████████████▉         | 1.5MB 31.6MB/s eta 0:00:01\r\u001b[K     |███████████████████████         | 1.5MB 31.6MB/s eta 0:00:01\r\u001b[K     |███████████████████████▏        | 1.5MB 31.6MB/s eta 0:00:01\r\u001b[K     |███████████████████████▎        | 1.5MB 31.6MB/s eta 0:00:01\r\u001b[K     |███████████████████████▌        | 1.5MB 31.6MB/s eta 0:00:01\r\u001b[K     |███████████████████████▋        | 1.5MB 31.6MB/s eta 0:00:01\r\u001b[K     |███████████████████████▉        | 1.6MB 31.6MB/s eta 0:00:01\r\u001b[K     |████████████████████████        | 1.6MB 31.6MB/s eta 0:00:01\r\u001b[K     |████████████████████████        | 1.6MB 31.6MB/s eta 0:00:01\r\u001b[K     |████████████████████████▎       | 1.6MB 31.6MB/s eta 0:00:01\r\u001b[K     |████████████████████████▍       | 1.6MB 31.6MB/s eta 0:00:01\r\u001b[K     |████████████████████████▋       | 1.6MB 31.6MB/s eta 0:00:01\r\u001b[K     |████████████████████████▊       | 1.6MB 31.6MB/s eta 0:00:01\r\u001b[K     |████████████████████████▉       | 1.6MB 31.6MB/s eta 0:00:01\r\u001b[K     |█████████████████████████       | 1.6MB 31.6MB/s eta 0:00:01\r\u001b[K     |█████████████████████████▏      | 1.6MB 31.6MB/s eta 0:00:01\r\u001b[K     |█████████████████████████▍      | 1.7MB 31.6MB/s eta 0:00:01\r\u001b[K     |█████████████████████████▌      | 1.7MB 31.6MB/s eta 0:00:01\r\u001b[K     |█████████████████████████▋      | 1.7MB 31.6MB/s eta 0:00:01\r\u001b[K     |█████████████████████████▉      | 1.7MB 31.6MB/s eta 0:00:01\r\u001b[K     |██████████████████████████      | 1.7MB 31.6MB/s eta 0:00:01\r\u001b[K     |██████████████████████████▏     | 1.7MB 31.6MB/s eta 0:00:01\r\u001b[K     |██████████████████████████▎     | 1.7MB 31.6MB/s eta 0:00:01\r\u001b[K     |██████████████████████████▍     | 1.7MB 31.6MB/s eta 0:00:01\r\u001b[K     |██████████████████████████▋     | 1.7MB 31.6MB/s eta 0:00:01\r\u001b[K     |██████████████████████████▊     | 1.8MB 31.6MB/s eta 0:00:01\r\u001b[K     |███████████████████████████     | 1.8MB 31.6MB/s eta 0:00:01\r\u001b[K     |███████████████████████████     | 1.8MB 31.6MB/s eta 0:00:01\r\u001b[K     |███████████████████████████▎    | 1.8MB 31.6MB/s eta 0:00:01\r\u001b[K     |███████████████████████████▍    | 1.8MB 31.6MB/s eta 0:00:01\r\u001b[K     |███████████████████████████▌    | 1.8MB 31.6MB/s eta 0:00:01\r\u001b[K     |███████████████████████████▊    | 1.8MB 31.6MB/s eta 0:00:01\r\u001b[K     |███████████████████████████▉    | 1.8MB 31.6MB/s eta 0:00:01\r\u001b[K     |████████████████████████████    | 1.8MB 31.6MB/s eta 0:00:01\r\u001b[K     |████████████████████████████▏   | 1.8MB 31.6MB/s eta 0:00:01\r\u001b[K     |████████████████████████████▎   | 1.9MB 31.6MB/s eta 0:00:01\r\u001b[K     |████████████████████████████▌   | 1.9MB 31.6MB/s eta 0:00:01\r\u001b[K     |████████████████████████████▋   | 1.9MB 31.6MB/s eta 0:00:01\r\u001b[K     |████████████████████████████▉   | 1.9MB 31.6MB/s eta 0:00:01\r\u001b[K     |█████████████████████████████   | 1.9MB 31.6MB/s eta 0:00:01\r\u001b[K     |█████████████████████████████   | 1.9MB 31.6MB/s eta 0:00:01\r\u001b[K     |█████████████████████████████▎  | 1.9MB 31.6MB/s eta 0:00:01\r\u001b[K     |█████████████████████████████▍  | 1.9MB 31.6MB/s eta 0:00:01\r\u001b[K     |█████████████████████████████▋  | 1.9MB 31.6MB/s eta 0:00:01\r\u001b[K     |█████████████████████████████▊  | 1.9MB 31.6MB/s eta 0:00:01\r\u001b[K     |█████████████████████████████▉  | 2.0MB 31.6MB/s eta 0:00:01\r\u001b[K     |██████████████████████████████  | 2.0MB 31.6MB/s eta 0:00:01\r\u001b[K     |██████████████████████████████▏ | 2.0MB 31.6MB/s eta 0:00:01\r\u001b[K     |██████████████████████████████▍ | 2.0MB 31.6MB/s eta 0:00:01\r\u001b[K     |██████████████████████████████▌ | 2.0MB 31.6MB/s eta 0:00:01\r\u001b[K     |██████████████████████████████▋ | 2.0MB 31.6MB/s eta 0:00:01\r\u001b[K     |██████████████████████████████▉ | 2.0MB 31.6MB/s eta 0:00:01\r\u001b[K     |███████████████████████████████ | 2.0MB 31.6MB/s eta 0:00:01\r\u001b[K     |███████████████████████████████▏| 2.0MB 31.6MB/s eta 0:00:01\r\u001b[K     |███████████████████████████████▎| 2.0MB 31.6MB/s eta 0:00:01\r\u001b[K     |███████████████████████████████▌| 2.1MB 31.6MB/s eta 0:00:01\r\u001b[K     |███████████████████████████████▋| 2.1MB 31.6MB/s eta 0:00:01\r\u001b[K     |███████████████████████████████▊| 2.1MB 31.6MB/s eta 0:00:01\r\u001b[K     |████████████████████████████████| 2.1MB 31.6MB/s eta 0:00:01\r\u001b[K     |████████████████████████████████| 2.1MB 31.6MB/s \n",
            "\u001b[31mERROR: albumentations 0.1.12 has requirement imgaug<0.2.7,>=0.2.5, but you'll have imgaug 0.2.9 which is incompatible.\u001b[0m\n",
            "\u001b[?25hInstalling collected packages: pillow\n",
            "  Found existing installation: Pillow 5.3.0\n",
            "    Uninstalling Pillow-5.3.0:\n",
            "      Successfully uninstalled Pillow-5.3.0\n",
            "Successfully installed pillow-6.2.1\n"
          ],
          "name": "stdout"
        },
        {
          "output_type": "display_data",
          "data": {
            "application/vnd.colab-display-data+json": {
              "pip_warning": {
                "packages": [
                  "PIL"
                ]
              }
            }
          },
          "metadata": {
            "tags": []
          }
        }
      ]
    },
    {
      "cell_type": "code",
      "metadata": {
        "id": "HeOpOs-iPepd",
        "colab_type": "code",
        "colab": {
          "base_uri": "https://localhost:8080/",
          "height": 426
        },
        "outputId": "ff74e529-e203-4331-9fd2-b101988b91ac"
      },
      "source": [
        "'''\n",
        "-> Generator class for applying image transformations\n",
        "-> Can be used for image augmentation purposes if need be\n",
        "-> Currently just normalises the image\n",
        "-> tensorflow does not support importing and processing images\n",
        "    so use this or use PIL(python image library)\n",
        "'''\n",
        "\n",
        "from keras.models import Model\n",
        "from keras import backend as K\n",
        "from keras.layers import Input\n",
        "from keras.layers import Dense, GlobalAveragePooling2D\n",
        "from keras.applications.inception_v3 import InceptionV3\n",
        "from keras.preprocessing.image import ImageDataGenerator\n",
        "from PIL import ImageFile\n",
        "\n",
        "# ImageFile.LOAD_TRUNCATED_IMAGES = True\n",
        "\n",
        "# Image dimension data\n",
        "'''\n",
        "    Sensor Type\t    Image Size\t            Set A\tSet B\tResolution\n",
        "DB1\tOptical Sensor\t640x480 (307 Kpixels)\t100x8\t10x8\t500 dpi\n",
        "DB2\tOptical Sensor\t328x364 (119 Kpixels)\t100x8\t10x8\t500 dpi\n",
        "DB3\tThermal sweeping\n",
        "    Sensor\t        300x480 (144 Kpixels)\t100x8\t10x8\t512 dpi\n",
        "DB4\tSFinGe v3.0\t    288x384 (108 Kpixels)\t100x8\t10x8\tabout 500 dpi\n",
        "'''\n",
        "\n",
        "img_width, img_height = 640, 480\n",
        "train_data_dir = './drive/My Drive/dbs/DB1_B/train'\n",
        "validation_data_dir = './drive/My Drive/dbs/DB1_B/validation'\n",
        "nb_train_samples = 60\n",
        "nb_validation_samples = 20\n",
        "batch_size = 5\n",
        "epochs = 150\n",
        "\n",
        "if K.image_data_format() == 'channels_last':\n",
        "    input_tensor = Input(shape=(img_width, img_height, 3))\n",
        "else:\n",
        "    input_tensor = Input(shape=(3, img_width, img_height))\n",
        "\n",
        "\n",
        "train_datagen = ImageDataGenerator(rescale=1./255)\n",
        "\n",
        "test_datagen = ImageDataGenerator()\n",
        "\n",
        "train_generator = train_datagen.flow_from_directory(\n",
        "        './drive/My Drive/dbs/DB1_B/train',\n",
        "        target_size=(img_width, img_height),\n",
        "        batch_size=batch_size,\n",
        "        class_mode='categorical')\n",
        "\n",
        "validation_generator = test_datagen.flow_from_directory(\n",
        "        './drive/My Drive/dbs/DB1_B/validation',\n",
        "        target_size=(img_width, img_height),\n",
        "        batch_size=batch_size,\n",
        "        class_mode='categorical')\n",
        "\n",
        "# imports the inceptionv3 pretained model\n",
        "inception_model = InceptionV3(input_tensor=input_tensor, weights='imagenet', include_top=False)\n",
        "\n",
        "x = inception_model.output\n",
        "x = GlobalAveragePooling2D()(x)\n",
        "x = Dense(1024, activation='relu')(x)\n",
        "predictions = Dense(10, activation='softmax')(x)\n",
        "\n",
        "model = Model(inputs=inception_model.input, outputs=predictions)\n",
        "\n",
        "# freeze all convolutional InceptionV3 layers\n",
        "for layer in inception_model.layers:\n",
        "    layer.trainable = False\n",
        "\n",
        "model.compile(optimizer='adam', loss='categorical_crossentropy')\n",
        "# model.summary()\n",
        "\n",
        "history = model.fit_generator(\n",
        "        train_generator,\n",
        "        steps_per_epoch=nb_train_samples // batch_size,\n",
        "        epochs=epochs,\n",
        "        validation_data=validation_generator,\n",
        "        validation_steps=nb_validation_samples // batch_size\n",
        "        )"
      ],
      "execution_count": 8,
      "outputs": [
        {
          "output_type": "stream",
          "text": [
            "Found 60 images belonging to 10 classes.\n",
            "Found 20 images belonging to 10 classes.\n",
            "Epoch 1/150\n",
            "11/12 [==========================>...] - ETA: 0s - loss: 3.4319"
          ],
          "name": "stdout"
        },
        {
          "output_type": "error",
          "ename": "OSError",
          "evalue": "ignored",
          "traceback": [
            "\u001b[0;31m---------------------------------------------------------------------------\u001b[0m",
            "\u001b[0;31mOSError\u001b[0m                                   Traceback (most recent call last)",
            "\u001b[0;32m<ipython-input-8-a960bd43f0e9>\u001b[0m in \u001b[0;36m<module>\u001b[0;34m()\u001b[0m\n\u001b[1;32m     79\u001b[0m         \u001b[0mepochs\u001b[0m\u001b[0;34m=\u001b[0m\u001b[0mepochs\u001b[0m\u001b[0;34m,\u001b[0m\u001b[0;34m\u001b[0m\u001b[0;34m\u001b[0m\u001b[0m\n\u001b[1;32m     80\u001b[0m         \u001b[0mvalidation_data\u001b[0m\u001b[0;34m=\u001b[0m\u001b[0mvalidation_generator\u001b[0m\u001b[0;34m,\u001b[0m\u001b[0;34m\u001b[0m\u001b[0;34m\u001b[0m\u001b[0m\n\u001b[0;32m---> 81\u001b[0;31m         \u001b[0mvalidation_steps\u001b[0m\u001b[0;34m=\u001b[0m\u001b[0mnb_validation_samples\u001b[0m \u001b[0;34m//\u001b[0m \u001b[0mbatch_size\u001b[0m\u001b[0;34m\u001b[0m\u001b[0;34m\u001b[0m\u001b[0m\n\u001b[0m\u001b[1;32m     82\u001b[0m         )\n",
            "\u001b[0;32m/usr/local/lib/python3.6/dist-packages/keras/legacy/interfaces.py\u001b[0m in \u001b[0;36mwrapper\u001b[0;34m(*args, **kwargs)\u001b[0m\n\u001b[1;32m     89\u001b[0m                 warnings.warn('Update your `' + object_name + '` call to the ' +\n\u001b[1;32m     90\u001b[0m                               'Keras 2 API: ' + signature, stacklevel=2)\n\u001b[0;32m---> 91\u001b[0;31m             \u001b[0;32mreturn\u001b[0m \u001b[0mfunc\u001b[0m\u001b[0;34m(\u001b[0m\u001b[0;34m*\u001b[0m\u001b[0margs\u001b[0m\u001b[0;34m,\u001b[0m \u001b[0;34m**\u001b[0m\u001b[0mkwargs\u001b[0m\u001b[0;34m)\u001b[0m\u001b[0;34m\u001b[0m\u001b[0;34m\u001b[0m\u001b[0m\n\u001b[0m\u001b[1;32m     92\u001b[0m         \u001b[0mwrapper\u001b[0m\u001b[0;34m.\u001b[0m\u001b[0m_original_function\u001b[0m \u001b[0;34m=\u001b[0m \u001b[0mfunc\u001b[0m\u001b[0;34m\u001b[0m\u001b[0;34m\u001b[0m\u001b[0m\n\u001b[1;32m     93\u001b[0m         \u001b[0;32mreturn\u001b[0m \u001b[0mwrapper\u001b[0m\u001b[0;34m\u001b[0m\u001b[0;34m\u001b[0m\u001b[0m\n",
            "\u001b[0;32m/usr/local/lib/python3.6/dist-packages/keras/engine/training.py\u001b[0m in \u001b[0;36mfit_generator\u001b[0;34m(self, generator, steps_per_epoch, epochs, verbose, callbacks, validation_data, validation_steps, validation_freq, class_weight, max_queue_size, workers, use_multiprocessing, shuffle, initial_epoch)\u001b[0m\n\u001b[1;32m   1656\u001b[0m             \u001b[0muse_multiprocessing\u001b[0m\u001b[0;34m=\u001b[0m\u001b[0muse_multiprocessing\u001b[0m\u001b[0;34m,\u001b[0m\u001b[0;34m\u001b[0m\u001b[0;34m\u001b[0m\u001b[0m\n\u001b[1;32m   1657\u001b[0m             \u001b[0mshuffle\u001b[0m\u001b[0;34m=\u001b[0m\u001b[0mshuffle\u001b[0m\u001b[0;34m,\u001b[0m\u001b[0;34m\u001b[0m\u001b[0;34m\u001b[0m\u001b[0m\n\u001b[0;32m-> 1658\u001b[0;31m             initial_epoch=initial_epoch)\n\u001b[0m\u001b[1;32m   1659\u001b[0m \u001b[0;34m\u001b[0m\u001b[0m\n\u001b[1;32m   1660\u001b[0m     \u001b[0;34m@\u001b[0m\u001b[0minterfaces\u001b[0m\u001b[0;34m.\u001b[0m\u001b[0mlegacy_generator_methods_support\u001b[0m\u001b[0;34m\u001b[0m\u001b[0;34m\u001b[0m\u001b[0m\n",
            "\u001b[0;32m/usr/local/lib/python3.6/dist-packages/keras/engine/training_generator.py\u001b[0m in \u001b[0;36mfit_generator\u001b[0;34m(model, generator, steps_per_epoch, epochs, verbose, callbacks, validation_data, validation_steps, validation_freq, class_weight, max_queue_size, workers, use_multiprocessing, shuffle, initial_epoch)\u001b[0m\n\u001b[1;32m    235\u001b[0m                             \u001b[0mvalidation_steps\u001b[0m\u001b[0;34m,\u001b[0m\u001b[0;34m\u001b[0m\u001b[0;34m\u001b[0m\u001b[0m\n\u001b[1;32m    236\u001b[0m                             \u001b[0mcallbacks\u001b[0m\u001b[0;34m=\u001b[0m\u001b[0mcallbacks\u001b[0m\u001b[0;34m,\u001b[0m\u001b[0;34m\u001b[0m\u001b[0;34m\u001b[0m\u001b[0m\n\u001b[0;32m--> 237\u001b[0;31m                             workers=0)\n\u001b[0m\u001b[1;32m    238\u001b[0m                     \u001b[0;32melse\u001b[0m\u001b[0;34m:\u001b[0m\u001b[0;34m\u001b[0m\u001b[0;34m\u001b[0m\u001b[0m\n\u001b[1;32m    239\u001b[0m                         \u001b[0;31m# No need for try/except because\u001b[0m\u001b[0;34m\u001b[0m\u001b[0;34m\u001b[0m\u001b[0;34m\u001b[0m\u001b[0m\n",
            "\u001b[0;32m/usr/local/lib/python3.6/dist-packages/keras/legacy/interfaces.py\u001b[0m in \u001b[0;36mwrapper\u001b[0;34m(*args, **kwargs)\u001b[0m\n\u001b[1;32m     89\u001b[0m                 warnings.warn('Update your `' + object_name + '` call to the ' +\n\u001b[1;32m     90\u001b[0m                               'Keras 2 API: ' + signature, stacklevel=2)\n\u001b[0;32m---> 91\u001b[0;31m             \u001b[0;32mreturn\u001b[0m \u001b[0mfunc\u001b[0m\u001b[0;34m(\u001b[0m\u001b[0;34m*\u001b[0m\u001b[0margs\u001b[0m\u001b[0;34m,\u001b[0m \u001b[0;34m**\u001b[0m\u001b[0mkwargs\u001b[0m\u001b[0;34m)\u001b[0m\u001b[0;34m\u001b[0m\u001b[0;34m\u001b[0m\u001b[0m\n\u001b[0m\u001b[1;32m     92\u001b[0m         \u001b[0mwrapper\u001b[0m\u001b[0;34m.\u001b[0m\u001b[0m_original_function\u001b[0m \u001b[0;34m=\u001b[0m \u001b[0mfunc\u001b[0m\u001b[0;34m\u001b[0m\u001b[0;34m\u001b[0m\u001b[0m\n\u001b[1;32m     93\u001b[0m         \u001b[0;32mreturn\u001b[0m \u001b[0mwrapper\u001b[0m\u001b[0;34m\u001b[0m\u001b[0;34m\u001b[0m\u001b[0m\n",
            "\u001b[0;32m/usr/local/lib/python3.6/dist-packages/keras/engine/training.py\u001b[0m in \u001b[0;36mevaluate_generator\u001b[0;34m(self, generator, steps, callbacks, max_queue_size, workers, use_multiprocessing, verbose)\u001b[0m\n\u001b[1;32m   1715\u001b[0m             \u001b[0mworkers\u001b[0m\u001b[0;34m=\u001b[0m\u001b[0mworkers\u001b[0m\u001b[0;34m,\u001b[0m\u001b[0;34m\u001b[0m\u001b[0;34m\u001b[0m\u001b[0m\n\u001b[1;32m   1716\u001b[0m             \u001b[0muse_multiprocessing\u001b[0m\u001b[0;34m=\u001b[0m\u001b[0muse_multiprocessing\u001b[0m\u001b[0;34m,\u001b[0m\u001b[0;34m\u001b[0m\u001b[0;34m\u001b[0m\u001b[0m\n\u001b[0;32m-> 1717\u001b[0;31m             verbose=verbose)\n\u001b[0m\u001b[1;32m   1718\u001b[0m \u001b[0;34m\u001b[0m\u001b[0m\n\u001b[1;32m   1719\u001b[0m     \u001b[0;34m@\u001b[0m\u001b[0minterfaces\u001b[0m\u001b[0;34m.\u001b[0m\u001b[0mlegacy_generator_methods_support\u001b[0m\u001b[0;34m\u001b[0m\u001b[0;34m\u001b[0m\u001b[0m\n",
            "\u001b[0;32m/usr/local/lib/python3.6/dist-packages/keras/engine/training_generator.py\u001b[0m in \u001b[0;36mevaluate_generator\u001b[0;34m(model, generator, steps, callbacks, max_queue_size, workers, use_multiprocessing, verbose)\u001b[0m\n\u001b[1;32m    349\u001b[0m \u001b[0;34m\u001b[0m\u001b[0m\n\u001b[1;32m    350\u001b[0m         \u001b[0;32mwhile\u001b[0m \u001b[0msteps_done\u001b[0m \u001b[0;34m<\u001b[0m \u001b[0msteps\u001b[0m\u001b[0;34m:\u001b[0m\u001b[0;34m\u001b[0m\u001b[0;34m\u001b[0m\u001b[0m\n\u001b[0;32m--> 351\u001b[0;31m             \u001b[0mgenerator_output\u001b[0m \u001b[0;34m=\u001b[0m \u001b[0mnext\u001b[0m\u001b[0;34m(\u001b[0m\u001b[0moutput_generator\u001b[0m\u001b[0;34m)\u001b[0m\u001b[0;34m\u001b[0m\u001b[0;34m\u001b[0m\u001b[0m\n\u001b[0m\u001b[1;32m    352\u001b[0m             \u001b[0;32mif\u001b[0m \u001b[0;32mnot\u001b[0m \u001b[0mhasattr\u001b[0m\u001b[0;34m(\u001b[0m\u001b[0mgenerator_output\u001b[0m\u001b[0;34m,\u001b[0m \u001b[0;34m'__len__'\u001b[0m\u001b[0;34m)\u001b[0m\u001b[0;34m:\u001b[0m\u001b[0;34m\u001b[0m\u001b[0;34m\u001b[0m\u001b[0m\n\u001b[1;32m    353\u001b[0m                 raise ValueError('Output of generator should be a tuple '\n",
            "\u001b[0;32m/usr/local/lib/python3.6/dist-packages/keras/utils/data_utils.py\u001b[0m in \u001b[0;36mget\u001b[0;34m(self)\u001b[0m\n\u001b[1;32m    614\u001b[0m         \u001b[0;32mexcept\u001b[0m \u001b[0mException\u001b[0m\u001b[0;34m:\u001b[0m\u001b[0;34m\u001b[0m\u001b[0;34m\u001b[0m\u001b[0m\n\u001b[1;32m    615\u001b[0m             \u001b[0mself\u001b[0m\u001b[0;34m.\u001b[0m\u001b[0mstop\u001b[0m\u001b[0;34m(\u001b[0m\u001b[0;34m)\u001b[0m\u001b[0;34m\u001b[0m\u001b[0;34m\u001b[0m\u001b[0m\n\u001b[0;32m--> 616\u001b[0;31m             \u001b[0msix\u001b[0m\u001b[0;34m.\u001b[0m\u001b[0mreraise\u001b[0m\u001b[0;34m(\u001b[0m\u001b[0;34m*\u001b[0m\u001b[0msys\u001b[0m\u001b[0;34m.\u001b[0m\u001b[0mexc_info\u001b[0m\u001b[0;34m(\u001b[0m\u001b[0;34m)\u001b[0m\u001b[0;34m)\u001b[0m\u001b[0;34m\u001b[0m\u001b[0;34m\u001b[0m\u001b[0m\n\u001b[0m\u001b[1;32m    617\u001b[0m \u001b[0;34m\u001b[0m\u001b[0m\n\u001b[1;32m    618\u001b[0m \u001b[0;34m\u001b[0m\u001b[0m\n",
            "\u001b[0;32m/usr/local/lib/python3.6/dist-packages/six.py\u001b[0m in \u001b[0;36mreraise\u001b[0;34m(tp, value, tb)\u001b[0m\n\u001b[1;32m    691\u001b[0m             \u001b[0;32mif\u001b[0m \u001b[0mvalue\u001b[0m\u001b[0;34m.\u001b[0m\u001b[0m__traceback__\u001b[0m \u001b[0;32mis\u001b[0m \u001b[0;32mnot\u001b[0m \u001b[0mtb\u001b[0m\u001b[0;34m:\u001b[0m\u001b[0;34m\u001b[0m\u001b[0;34m\u001b[0m\u001b[0m\n\u001b[1;32m    692\u001b[0m                 \u001b[0;32mraise\u001b[0m \u001b[0mvalue\u001b[0m\u001b[0;34m.\u001b[0m\u001b[0mwith_traceback\u001b[0m\u001b[0;34m(\u001b[0m\u001b[0mtb\u001b[0m\u001b[0;34m)\u001b[0m\u001b[0;34m\u001b[0m\u001b[0;34m\u001b[0m\u001b[0m\n\u001b[0;32m--> 693\u001b[0;31m             \u001b[0;32mraise\u001b[0m \u001b[0mvalue\u001b[0m\u001b[0;34m\u001b[0m\u001b[0;34m\u001b[0m\u001b[0m\n\u001b[0m\u001b[1;32m    694\u001b[0m         \u001b[0;32mfinally\u001b[0m\u001b[0;34m:\u001b[0m\u001b[0;34m\u001b[0m\u001b[0;34m\u001b[0m\u001b[0m\n\u001b[1;32m    695\u001b[0m             \u001b[0mvalue\u001b[0m \u001b[0;34m=\u001b[0m \u001b[0;32mNone\u001b[0m\u001b[0;34m\u001b[0m\u001b[0;34m\u001b[0m\u001b[0m\n",
            "\u001b[0;32m/usr/local/lib/python3.6/dist-packages/keras/utils/data_utils.py\u001b[0m in \u001b[0;36mget\u001b[0;34m(self)\u001b[0m\n\u001b[1;32m    601\u001b[0m                 \u001b[0;32mtry\u001b[0m\u001b[0;34m:\u001b[0m\u001b[0;34m\u001b[0m\u001b[0;34m\u001b[0m\u001b[0m\n\u001b[1;32m    602\u001b[0m                     \u001b[0mfuture\u001b[0m \u001b[0;34m=\u001b[0m \u001b[0mself\u001b[0m\u001b[0;34m.\u001b[0m\u001b[0mqueue\u001b[0m\u001b[0;34m.\u001b[0m\u001b[0mget\u001b[0m\u001b[0;34m(\u001b[0m\u001b[0mblock\u001b[0m\u001b[0;34m=\u001b[0m\u001b[0;32mTrue\u001b[0m\u001b[0;34m)\u001b[0m\u001b[0;34m\u001b[0m\u001b[0;34m\u001b[0m\u001b[0m\n\u001b[0;32m--> 603\u001b[0;31m                     \u001b[0minputs\u001b[0m \u001b[0;34m=\u001b[0m \u001b[0mfuture\u001b[0m\u001b[0;34m.\u001b[0m\u001b[0mget\u001b[0m\u001b[0;34m(\u001b[0m\u001b[0mtimeout\u001b[0m\u001b[0;34m=\u001b[0m\u001b[0;36m30\u001b[0m\u001b[0;34m)\u001b[0m\u001b[0;34m\u001b[0m\u001b[0;34m\u001b[0m\u001b[0m\n\u001b[0m\u001b[1;32m    604\u001b[0m                     \u001b[0mself\u001b[0m\u001b[0;34m.\u001b[0m\u001b[0mqueue\u001b[0m\u001b[0;34m.\u001b[0m\u001b[0mtask_done\u001b[0m\u001b[0;34m(\u001b[0m\u001b[0;34m)\u001b[0m\u001b[0;34m\u001b[0m\u001b[0;34m\u001b[0m\u001b[0m\n\u001b[1;32m    605\u001b[0m                 \u001b[0;32mexcept\u001b[0m \u001b[0mmp\u001b[0m\u001b[0;34m.\u001b[0m\u001b[0mTimeoutError\u001b[0m\u001b[0;34m:\u001b[0m\u001b[0;34m\u001b[0m\u001b[0;34m\u001b[0m\u001b[0m\n",
            "\u001b[0;32m/usr/lib/python3.6/multiprocessing/pool.py\u001b[0m in \u001b[0;36mget\u001b[0;34m(self, timeout)\u001b[0m\n\u001b[1;32m    642\u001b[0m             \u001b[0;32mreturn\u001b[0m \u001b[0mself\u001b[0m\u001b[0;34m.\u001b[0m\u001b[0m_value\u001b[0m\u001b[0;34m\u001b[0m\u001b[0;34m\u001b[0m\u001b[0m\n\u001b[1;32m    643\u001b[0m         \u001b[0;32melse\u001b[0m\u001b[0;34m:\u001b[0m\u001b[0;34m\u001b[0m\u001b[0;34m\u001b[0m\u001b[0m\n\u001b[0;32m--> 644\u001b[0;31m             \u001b[0;32mraise\u001b[0m \u001b[0mself\u001b[0m\u001b[0;34m.\u001b[0m\u001b[0m_value\u001b[0m\u001b[0;34m\u001b[0m\u001b[0;34m\u001b[0m\u001b[0m\n\u001b[0m\u001b[1;32m    645\u001b[0m \u001b[0;34m\u001b[0m\u001b[0m\n\u001b[1;32m    646\u001b[0m     \u001b[0;32mdef\u001b[0m \u001b[0m_set\u001b[0m\u001b[0;34m(\u001b[0m\u001b[0mself\u001b[0m\u001b[0;34m,\u001b[0m \u001b[0mi\u001b[0m\u001b[0;34m,\u001b[0m \u001b[0mobj\u001b[0m\u001b[0;34m)\u001b[0m\u001b[0;34m:\u001b[0m\u001b[0;34m\u001b[0m\u001b[0;34m\u001b[0m\u001b[0m\n",
            "\u001b[0;32m/usr/lib/python3.6/multiprocessing/pool.py\u001b[0m in \u001b[0;36mworker\u001b[0;34m(inqueue, outqueue, initializer, initargs, maxtasks, wrap_exception)\u001b[0m\n\u001b[1;32m    117\u001b[0m         \u001b[0mjob\u001b[0m\u001b[0;34m,\u001b[0m \u001b[0mi\u001b[0m\u001b[0;34m,\u001b[0m \u001b[0mfunc\u001b[0m\u001b[0;34m,\u001b[0m \u001b[0margs\u001b[0m\u001b[0;34m,\u001b[0m \u001b[0mkwds\u001b[0m \u001b[0;34m=\u001b[0m \u001b[0mtask\u001b[0m\u001b[0;34m\u001b[0m\u001b[0;34m\u001b[0m\u001b[0m\n\u001b[1;32m    118\u001b[0m         \u001b[0;32mtry\u001b[0m\u001b[0;34m:\u001b[0m\u001b[0;34m\u001b[0m\u001b[0;34m\u001b[0m\u001b[0m\n\u001b[0;32m--> 119\u001b[0;31m             \u001b[0mresult\u001b[0m \u001b[0;34m=\u001b[0m \u001b[0;34m(\u001b[0m\u001b[0;32mTrue\u001b[0m\u001b[0;34m,\u001b[0m \u001b[0mfunc\u001b[0m\u001b[0;34m(\u001b[0m\u001b[0;34m*\u001b[0m\u001b[0margs\u001b[0m\u001b[0;34m,\u001b[0m \u001b[0;34m**\u001b[0m\u001b[0mkwds\u001b[0m\u001b[0;34m)\u001b[0m\u001b[0;34m)\u001b[0m\u001b[0;34m\u001b[0m\u001b[0;34m\u001b[0m\u001b[0m\n\u001b[0m\u001b[1;32m    120\u001b[0m         \u001b[0;32mexcept\u001b[0m \u001b[0mException\u001b[0m \u001b[0;32mas\u001b[0m \u001b[0me\u001b[0m\u001b[0;34m:\u001b[0m\u001b[0;34m\u001b[0m\u001b[0;34m\u001b[0m\u001b[0m\n\u001b[1;32m    121\u001b[0m             \u001b[0;32mif\u001b[0m \u001b[0mwrap_exception\u001b[0m \u001b[0;32mand\u001b[0m \u001b[0mfunc\u001b[0m \u001b[0;32mis\u001b[0m \u001b[0;32mnot\u001b[0m \u001b[0m_helper_reraises_exception\u001b[0m\u001b[0;34m:\u001b[0m\u001b[0;34m\u001b[0m\u001b[0;34m\u001b[0m\u001b[0m\n",
            "\u001b[0;32m/usr/local/lib/python3.6/dist-packages/keras/utils/data_utils.py\u001b[0m in \u001b[0;36mget_index\u001b[0;34m(uid, i)\u001b[0m\n\u001b[1;32m    404\u001b[0m         \u001b[0mThe\u001b[0m \u001b[0mvalue\u001b[0m \u001b[0mat\u001b[0m \u001b[0mindex\u001b[0m\u001b[0;31m \u001b[0m\u001b[0;31m`\u001b[0m\u001b[0mi\u001b[0m\u001b[0;31m`\u001b[0m\u001b[0;34m.\u001b[0m\u001b[0;34m\u001b[0m\u001b[0;34m\u001b[0m\u001b[0m\n\u001b[1;32m    405\u001b[0m     \"\"\"\n\u001b[0;32m--> 406\u001b[0;31m     \u001b[0;32mreturn\u001b[0m \u001b[0m_SHARED_SEQUENCES\u001b[0m\u001b[0;34m[\u001b[0m\u001b[0muid\u001b[0m\u001b[0;34m]\u001b[0m\u001b[0;34m[\u001b[0m\u001b[0mi\u001b[0m\u001b[0;34m]\u001b[0m\u001b[0;34m\u001b[0m\u001b[0;34m\u001b[0m\u001b[0m\n\u001b[0m\u001b[1;32m    407\u001b[0m \u001b[0;34m\u001b[0m\u001b[0m\n\u001b[1;32m    408\u001b[0m \u001b[0;34m\u001b[0m\u001b[0m\n",
            "\u001b[0;32m/usr/local/lib/python3.6/dist-packages/keras_preprocessing/image/iterator.py\u001b[0m in \u001b[0;36m__getitem__\u001b[0;34m(self, idx)\u001b[0m\n\u001b[1;32m     63\u001b[0m         index_array = self.index_array[self.batch_size * idx:\n\u001b[1;32m     64\u001b[0m                                        self.batch_size * (idx + 1)]\n\u001b[0;32m---> 65\u001b[0;31m         \u001b[0;32mreturn\u001b[0m \u001b[0mself\u001b[0m\u001b[0;34m.\u001b[0m\u001b[0m_get_batches_of_transformed_samples\u001b[0m\u001b[0;34m(\u001b[0m\u001b[0mindex_array\u001b[0m\u001b[0;34m)\u001b[0m\u001b[0;34m\u001b[0m\u001b[0;34m\u001b[0m\u001b[0m\n\u001b[0m\u001b[1;32m     66\u001b[0m \u001b[0;34m\u001b[0m\u001b[0m\n\u001b[1;32m     67\u001b[0m     \u001b[0;32mdef\u001b[0m \u001b[0m__len__\u001b[0m\u001b[0;34m(\u001b[0m\u001b[0mself\u001b[0m\u001b[0;34m)\u001b[0m\u001b[0;34m:\u001b[0m\u001b[0;34m\u001b[0m\u001b[0;34m\u001b[0m\u001b[0m\n",
            "\u001b[0;32m/usr/local/lib/python3.6/dist-packages/keras_preprocessing/image/iterator.py\u001b[0m in \u001b[0;36m_get_batches_of_transformed_samples\u001b[0;34m(self, index_array)\u001b[0m\n\u001b[1;32m    228\u001b[0m                            \u001b[0mcolor_mode\u001b[0m\u001b[0;34m=\u001b[0m\u001b[0mself\u001b[0m\u001b[0;34m.\u001b[0m\u001b[0mcolor_mode\u001b[0m\u001b[0;34m,\u001b[0m\u001b[0;34m\u001b[0m\u001b[0;34m\u001b[0m\u001b[0m\n\u001b[1;32m    229\u001b[0m                            \u001b[0mtarget_size\u001b[0m\u001b[0;34m=\u001b[0m\u001b[0mself\u001b[0m\u001b[0;34m.\u001b[0m\u001b[0mtarget_size\u001b[0m\u001b[0;34m,\u001b[0m\u001b[0;34m\u001b[0m\u001b[0;34m\u001b[0m\u001b[0m\n\u001b[0;32m--> 230\u001b[0;31m                            interpolation=self.interpolation)\n\u001b[0m\u001b[1;32m    231\u001b[0m             \u001b[0mx\u001b[0m \u001b[0;34m=\u001b[0m \u001b[0mimg_to_array\u001b[0m\u001b[0;34m(\u001b[0m\u001b[0mimg\u001b[0m\u001b[0;34m,\u001b[0m \u001b[0mdata_format\u001b[0m\u001b[0;34m=\u001b[0m\u001b[0mself\u001b[0m\u001b[0;34m.\u001b[0m\u001b[0mdata_format\u001b[0m\u001b[0;34m)\u001b[0m\u001b[0;34m\u001b[0m\u001b[0;34m\u001b[0m\u001b[0m\n\u001b[1;32m    232\u001b[0m             \u001b[0;31m# Pillow images should be closed after `load_img`,\u001b[0m\u001b[0;34m\u001b[0m\u001b[0;34m\u001b[0m\u001b[0;34m\u001b[0m\u001b[0m\n",
            "\u001b[0;32m/usr/local/lib/python3.6/dist-packages/keras_preprocessing/image/utils.py\u001b[0m in \u001b[0;36mload_img\u001b[0;34m(path, grayscale, color_mode, target_size, interpolation)\u001b[0m\n\u001b[1;32m    108\u001b[0m         raise ImportError('Could not import PIL.Image. '\n\u001b[1;32m    109\u001b[0m                           'The use of `load_img` requires PIL.')\n\u001b[0;32m--> 110\u001b[0;31m     \u001b[0mimg\u001b[0m \u001b[0;34m=\u001b[0m \u001b[0mpil_image\u001b[0m\u001b[0;34m.\u001b[0m\u001b[0mopen\u001b[0m\u001b[0;34m(\u001b[0m\u001b[0mpath\u001b[0m\u001b[0;34m)\u001b[0m\u001b[0;34m\u001b[0m\u001b[0;34m\u001b[0m\u001b[0m\n\u001b[0m\u001b[1;32m    111\u001b[0m     \u001b[0;32mif\u001b[0m \u001b[0mcolor_mode\u001b[0m \u001b[0;34m==\u001b[0m \u001b[0;34m'grayscale'\u001b[0m\u001b[0;34m:\u001b[0m\u001b[0;34m\u001b[0m\u001b[0;34m\u001b[0m\u001b[0m\n\u001b[1;32m    112\u001b[0m         \u001b[0;32mif\u001b[0m \u001b[0mimg\u001b[0m\u001b[0;34m.\u001b[0m\u001b[0mmode\u001b[0m \u001b[0;34m!=\u001b[0m \u001b[0;34m'L'\u001b[0m\u001b[0;34m:\u001b[0m\u001b[0;34m\u001b[0m\u001b[0;34m\u001b[0m\u001b[0m\n",
            "\u001b[0;32m/usr/local/lib/python3.6/dist-packages/PIL/Image.py\u001b[0m in \u001b[0;36mopen\u001b[0;34m(fp, mode)\u001b[0m\n\u001b[1;32m   2816\u001b[0m     \u001b[0;32mfor\u001b[0m \u001b[0mmessage\u001b[0m \u001b[0;32min\u001b[0m \u001b[0maccept_warnings\u001b[0m\u001b[0;34m:\u001b[0m\u001b[0;34m\u001b[0m\u001b[0;34m\u001b[0m\u001b[0m\n\u001b[1;32m   2817\u001b[0m         \u001b[0mwarnings\u001b[0m\u001b[0;34m.\u001b[0m\u001b[0mwarn\u001b[0m\u001b[0;34m(\u001b[0m\u001b[0mmessage\u001b[0m\u001b[0;34m)\u001b[0m\u001b[0;34m\u001b[0m\u001b[0;34m\u001b[0m\u001b[0m\n\u001b[0;32m-> 2818\u001b[0;31m     \u001b[0;32mraise\u001b[0m \u001b[0mIOError\u001b[0m\u001b[0;34m(\u001b[0m\u001b[0;34m\"cannot identify image file %r\"\u001b[0m \u001b[0;34m%\u001b[0m \u001b[0;34m(\u001b[0m\u001b[0mfilename\u001b[0m \u001b[0;32mif\u001b[0m \u001b[0mfilename\u001b[0m \u001b[0;32melse\u001b[0m \u001b[0mfp\u001b[0m\u001b[0;34m)\u001b[0m\u001b[0;34m)\u001b[0m\u001b[0;34m\u001b[0m\u001b[0;34m\u001b[0m\u001b[0m\n\u001b[0m\u001b[1;32m   2819\u001b[0m \u001b[0;34m\u001b[0m\u001b[0m\n\u001b[1;32m   2820\u001b[0m \u001b[0;34m\u001b[0m\u001b[0m\n",
            "\u001b[0;31mOSError\u001b[0m: cannot identify image file './drive/My Drive/dbs/DB1_B/validation/110/110_2.tif'"
          ]
        }
      ]
    },
    {
      "cell_type": "code",
      "metadata": {
        "id": "Ihnqy_L91zr3",
        "colab_type": "code",
        "colab": {}
      },
      "source": [
        "# from keras.utils import plot_model\n",
        "# plot_model(model, to_file='model.png')"
      ],
      "execution_count": 0,
      "outputs": []
    },
    {
      "cell_type": "code",
      "metadata": {
        "id": "iYP1Elprz-A8",
        "colab_type": "code",
        "colab": {
          "base_uri": "https://localhost:8080/",
          "height": 497
        },
        "outputId": "da2bb2d2-8cef-465a-c291-43a6cf34eeb8"
      },
      "source": [
        "print(history.history.keys())\n",
        "# summarize history for accuracy\n",
        "# plt.plot(history.history['accuracy'])\n",
        "# plt.plot(history.history['val_accuracy'])\n",
        "# plt.title('model accuracy')\n",
        "# plt.ylabel('accuracy')\n",
        "# plt.xlabel('epoch')\n",
        "# plt.legend(['train', 'test'], loc='upper left')\n",
        "# plt.show()\n",
        "# summarize history for loss\n",
        "plt.plot(history.history['loss'])\n",
        "plt.plot(history.history['val_loss'])\n",
        "plt.title('model loss')\n",
        "plt.ylabel('loss')\n",
        "plt.xlabel('epoch')\n",
        "plt.legend(['train', 'test'], loc='upper left')\n",
        "plt.show()"
      ],
      "execution_count": 8,
      "outputs": [
        {
          "output_type": "stream",
          "text": [
            "dict_keys(['loss'])\n"
          ],
          "name": "stdout"
        },
        {
          "output_type": "error",
          "ename": "KeyError",
          "evalue": "ignored",
          "traceback": [
            "\u001b[0;31m---------------------------------------------------------------------------\u001b[0m",
            "\u001b[0;31mKeyError\u001b[0m                                  Traceback (most recent call last)",
            "\u001b[0;32m<ipython-input-8-128f4d39cdc5>\u001b[0m in \u001b[0;36m<module>\u001b[0;34m()\u001b[0m\n\u001b[1;32m     10\u001b[0m \u001b[0;31m# summarize history for loss\u001b[0m\u001b[0;34m\u001b[0m\u001b[0;34m\u001b[0m\u001b[0;34m\u001b[0m\u001b[0m\n\u001b[1;32m     11\u001b[0m \u001b[0mplt\u001b[0m\u001b[0;34m.\u001b[0m\u001b[0mplot\u001b[0m\u001b[0;34m(\u001b[0m\u001b[0mhistory\u001b[0m\u001b[0;34m.\u001b[0m\u001b[0mhistory\u001b[0m\u001b[0;34m[\u001b[0m\u001b[0;34m'loss'\u001b[0m\u001b[0;34m]\u001b[0m\u001b[0;34m)\u001b[0m\u001b[0;34m\u001b[0m\u001b[0;34m\u001b[0m\u001b[0m\n\u001b[0;32m---> 12\u001b[0;31m \u001b[0mplt\u001b[0m\u001b[0;34m.\u001b[0m\u001b[0mplot\u001b[0m\u001b[0;34m(\u001b[0m\u001b[0mhistory\u001b[0m\u001b[0;34m.\u001b[0m\u001b[0mhistory\u001b[0m\u001b[0;34m[\u001b[0m\u001b[0;34m'val_loss'\u001b[0m\u001b[0;34m]\u001b[0m\u001b[0;34m)\u001b[0m\u001b[0;34m\u001b[0m\u001b[0;34m\u001b[0m\u001b[0m\n\u001b[0m\u001b[1;32m     13\u001b[0m \u001b[0mplt\u001b[0m\u001b[0;34m.\u001b[0m\u001b[0mtitle\u001b[0m\u001b[0;34m(\u001b[0m\u001b[0;34m'model loss'\u001b[0m\u001b[0;34m)\u001b[0m\u001b[0;34m\u001b[0m\u001b[0;34m\u001b[0m\u001b[0m\n\u001b[1;32m     14\u001b[0m \u001b[0mplt\u001b[0m\u001b[0;34m.\u001b[0m\u001b[0mylabel\u001b[0m\u001b[0;34m(\u001b[0m\u001b[0;34m'loss'\u001b[0m\u001b[0;34m)\u001b[0m\u001b[0;34m\u001b[0m\u001b[0;34m\u001b[0m\u001b[0m\n",
            "\u001b[0;31mKeyError\u001b[0m: 'val_loss'"
          ]
        },
        {
          "output_type": "display_data",
          "data": {
            "image/png": "[encoded data removed]",
            "text/plain": [
              "<Figure size 432x288 with 1 Axes>"
            ]
          },
          "metadata": {
            "tags": []
          }
        }
      ]
    },
    {
      "cell_type": "code",
      "metadata": {
        "id": "LUkdnzzPfSzV",
        "colab_type": "code",
        "colab": {
          "base_uri": "https://localhost:8080/",
          "height": 317
        },
        "outputId": "43788efa-6d01-4c2a-9a3c-78f75ba50eb0"
      },
      "source": [
        "from PIL import Image, ImageFile\n",
        "ImageFile.LOAD_TRUNCATED_IMAGES = True\n",
        "im = Image.open(\"./drive/My Drive/dbs/DB1_B/validation/110/110_6.tiff\")\n"
      ],
      "execution_count": 4,
      "outputs": [
        {
          "output_type": "error",
          "ename": "OSError",
          "evalue": "ignored",
          "traceback": [
            "\u001b[0;31m---------------------------------------------------------------------------\u001b[0m",
            "\u001b[0;31mOSError\u001b[0m                                   Traceback (most recent call last)",
            "\u001b[0;32m<ipython-input-4-5bed8c99a3ef>\u001b[0m in \u001b[0;36m<module>\u001b[0;34m()\u001b[0m\n\u001b[1;32m      1\u001b[0m \u001b[0;32mfrom\u001b[0m \u001b[0mPIL\u001b[0m \u001b[0;32mimport\u001b[0m \u001b[0mImage\u001b[0m\u001b[0;34m,\u001b[0m \u001b[0mImageFile\u001b[0m\u001b[0;34m\u001b[0m\u001b[0;34m\u001b[0m\u001b[0m\n\u001b[1;32m      2\u001b[0m \u001b[0mImageFile\u001b[0m\u001b[0;34m.\u001b[0m\u001b[0mLOAD_TRUNCATED_IMAGES\u001b[0m \u001b[0;34m=\u001b[0m \u001b[0;32mTrue\u001b[0m\u001b[0;34m\u001b[0m\u001b[0;34m\u001b[0m\u001b[0m\n\u001b[0;32m----> 3\u001b[0;31m \u001b[0mim\u001b[0m \u001b[0;34m=\u001b[0m \u001b[0mImage\u001b[0m\u001b[0;34m.\u001b[0m\u001b[0mopen\u001b[0m\u001b[0;34m(\u001b[0m\u001b[0;34m\"./drive/My Drive/dbs/DB1_B/validation/110/110_6.tiff\"\u001b[0m\u001b[0;34m)\u001b[0m\u001b[0;34m\u001b[0m\u001b[0;34m\u001b[0m\u001b[0m\n\u001b[0m",
            "\u001b[0;32m/usr/local/lib/python3.6/dist-packages/PIL/Image.py\u001b[0m in \u001b[0;36mopen\u001b[0;34m(fp, mode)\u001b[0m\n\u001b[1;32m   2655\u001b[0m         \u001b[0mwarnings\u001b[0m\u001b[0;34m.\u001b[0m\u001b[0mwarn\u001b[0m\u001b[0;34m(\u001b[0m\u001b[0mmessage\u001b[0m\u001b[0;34m)\u001b[0m\u001b[0;34m\u001b[0m\u001b[0;34m\u001b[0m\u001b[0m\n\u001b[1;32m   2656\u001b[0m     raise IOError(\"cannot identify image file %r\"\n\u001b[0;32m-> 2657\u001b[0;31m                   % (filename if filename else fp))\n\u001b[0m\u001b[1;32m   2658\u001b[0m \u001b[0;34m\u001b[0m\u001b[0m\n\u001b[1;32m   2659\u001b[0m \u001b[0;31m#\u001b[0m\u001b[0;34m\u001b[0m\u001b[0;34m\u001b[0m\u001b[0;34m\u001b[0m\u001b[0m\n",
            "\u001b[0;31mOSError\u001b[0m: cannot identify image file './drive/My Drive/dbs/DB1_B/validation/110/110_6.tiff'"
          ]
        }
      ]
    },
    {
      "cell_type": "code",
      "metadata": {
        "id": "Vvg-pXyPv5tT",
        "colab_type": "code",
        "colab": {}
      },
      "source": [
        "im.show()"
      ],
      "execution_count": 0,
      "outputs": []
    },
    {
      "cell_type": "code",
      "metadata": {
        "id": "GFSorE3YwMLU",
        "colab_type": "code",
        "colab": {}
      },
      "source": [
        ""
      ],
      "execution_count": 0,
      "outputs": []
    }
  ]
}
